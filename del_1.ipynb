{
 "cells": [
  {
   "cell_type": "markdown",
   "id": "73476ee6",
   "metadata": {},
   "source": [
    "1) Vad är skillnaden på en tuple och list i Python? Är den ena datatypen bättre än den\n",
    "andra?"
   ]
  },
  {
   "cell_type": "markdown",
   "id": "23a01147",
   "metadata": {},
   "source": [
    "Svar: En lista är förändringsbar, vilket betyder att man kan ändra värden efter att den har skapats. En tuple är oföränderlig, så dess värden kan inte ändras. Om värden behöver ändras är list bättre, men om man vill att värdena ska vara oföränderliga är tuple att föredra."
   ]
  },
  {
   "cell_type": "markdown",
   "id": "8ca6b19e",
   "metadata": {},
   "source": [
    "2. Vad är en funktion för något? Varför kan funktioner vara användbara? "
   ]
  },
  {
   "cell_type": "markdown",
   "id": "21688161",
   "metadata": {},
   "source": [
    "Svar: En funktion är en namngiven del av koden som man anropar när den ska utföra en speciell uppgift. Den är användbar eftersom den gör koden kortare, mindre upprepande, tydligare och mer strukturerad. "
   ]
  },
  {
   "cell_type": "markdown",
   "id": "bb793230",
   "metadata": {},
   "source": [
    "3. Förklara vad nedanstående begrepp, kopplat till klasser, betyder:\n",
    "a) Instans\n",
    "b) Attribut\n",
    "c) Metod"
   ]
  },
  {
   "cell_type": "markdown",
   "id": "48c447ee",
   "metadata": {},
   "source": [
    "Svar:\n",
    "a) En instans är ett enskilt objekt som skapats från en klass.\n",
    "b) Attribut är variabler och egenskaper som tillhör en instans.\n",
    "c) En metod är en funktion som har definierats i en klass och som anropas genom en av dess instanser."
   ]
  },
  {
   "cell_type": "markdown",
   "id": "afdb4a94",
   "metadata": {},
   "source": [
    "4. Vad är Streamlit för något?"
   ]
  },
  {
   "cell_type": "markdown",
   "id": "b76446ef",
   "metadata": {},
   "source": [
    "Svar: Streamlit är ett verktyg i Python som hjälper oss att enkelt skapa interaktiva webbappar, särskilt för datanalyser."
   ]
  },
  {
   "cell_type": "markdown",
   "id": "32064ecf",
   "metadata": {},
   "source": [
    "5. I Python ska du nu:\n",
    "\n",
    "a) Skapa en klass som heter BankAccount. Klassen skall ha attributet \"account_holder\"\n",
    "som visar kontoinnehavarens namn samt attributet \"balance\" som visar\n",
    "kontoinnehavarens balans. Klassen skall ha metoden \"deposit()\" för att kunna sätta in\n",
    "pengar på kontot samt metoden \"withdraw()\" för att kunna ta ut pengar från kontot. Om\n",
    "bankinnehavaren försöker ta ut mer pengar än vad som finns på kontot skall\n",
    "meddelandet \"Too low balance\" printas ut.\n",
    "\n",
    "b) Skapa en instans av klassen och testa så klassen funkar så som du förväntar dig"
   ]
  },
  {
   "cell_type": "code",
   "execution_count": 25,
   "id": "ef8ffe13",
   "metadata": {},
   "outputs": [
    {
     "name": "stdout",
     "output_type": "stream",
     "text": [
      "Genc\n",
      "5000\n",
      "You deposited 500 kr\n",
      "5500\n",
      "You withdrew 1000 kr\n",
      "4500\n",
      "Too low balance\n",
      "Invalid amount\n"
     ]
    }
   ],
   "source": [
    "#a)\n",
    "class BankAccount:\n",
    "    def __init__(self, account_holder, balance = 0):\n",
    "        #Here an bankaccount is created with the account holders name and start balance\n",
    "        self.account_holder = account_holder\n",
    "        self.balance = balance\n",
    "    \n",
    "    def deposit(self , amount):\n",
    "        #Here you deposit money if the amount is above zero.\n",
    "        if amount >= 0:\n",
    "            self.balance += amount\n",
    "            print(f\"You deposited {amount} kr\")\n",
    "        else: \n",
    "            print(\"Invalid amount\")\n",
    "\n",
    "    def withdraw(self , amount):\n",
    "        #Here you withdraw money, if there is enough money in balance and if the amount is above zero. \n",
    "        if amount > self.balance:\n",
    "            print(\"Too low balance\")\n",
    "        elif amount <= 0:\n",
    "            print(\"Invalid amount\")\n",
    "        else: \n",
    "            self.balance -= amount\n",
    "            print(f\"You withdrew {amount} kr\")\n",
    "\n",
    "            \n",
    "#b)\n",
    "account = BankAccount(\"Genc\", 5000)\n",
    "#Shows the acount holder name.\n",
    "print(account.account_holder)\n",
    "#Shows the accounts balance.\n",
    "print(account.balance)\n",
    "\n",
    "#Deposit 500kr.\n",
    "account.deposit(500)\n",
    "print(account.balance)\n",
    "\n",
    "#Withdraw 1000kr\n",
    "account.withdraw(1000)\n",
    "print(account.balance)\n",
    "\n",
    "#Withdraw to high amount, error message will show up.\n",
    "account.withdraw(10000)\n",
    "\n",
    "#Invalid amount, error message will show up.\n",
    "account.deposit(-500)"
   ]
  },
  {
   "cell_type": "markdown",
   "id": "a28bb4d2",
   "metadata": {},
   "source": [
    "6. På intervjuer brukar ibland kodtest genomföras. Här är ett exempel på en fråga som hade\n",
    "kunnat dyka upp på ett kodtest.\n",
    "Skapa en Python funktion som beräknar antalet vokaler i en sträng. Vokalerna är:\n",
    "A, E, I, O, U, Y, Å, Ä och Ö.\n",
    "2/3\n",
    "Exempelvis: vowel_checker(’hjärna’) ska returnera ”2” eftersom ordet ”hjärna” har de två\n",
    "vokalerna ”ä” och ”a”. "
   ]
  },
  {
   "cell_type": "code",
   "execution_count": 23,
   "id": "15483c0c",
   "metadata": {},
   "outputs": [
    {
     "data": {
      "text/plain": [
       "2"
      ]
     },
     "execution_count": 23,
     "metadata": {},
     "output_type": "execute_result"
    }
   ],
   "source": [
    "def vowels_checker(text):\n",
    "    #A list of all vowels.\n",
    "    vowels = [\"a\",\"e\",\"i\",\"o\",\"u\",\"y\",\"å\",\"ä\", \"ö\", \"A\", \"E\", \"I\", \"O\",\"U\",\"Y\",\"Å\",\"Ä\",\"Ö\"]\n",
    "    amount_vows = 0\n",
    "\n",
    "    for letter in text:\n",
    "        # Loops through every letter in the text.\n",
    "        if letter in vowels:\n",
    "            #If the letter is an vow, the amount will increase.\n",
    "            amount_vows += 1  \n",
    "    \n",
    "    return amount_vows\n",
    "\n",
    "#Printed the amount of vowels that exist in the word \"Hjärna\".\n",
    "vowels_checker('Hjärna')\n"
   ]
  },
  {
   "cell_type": "markdown",
   "id": "59f4d0f0",
   "metadata": {},
   "source": [
    "7. På intervjuer brukar ibland kodtest genomföras. Här är ett exempel på en fråga som hade\n",
    "kunnat dyka upp på ett kodtest.\n",
    "Skapa en funktion som tar två listor som argument och returnerar de gemensamma\n",
    "elementen i listorna i en ny lista.\n",
    "Exempelvis:\n",
    "common_elements([4, ’apple’, 10, ’hi’, 3], ([23 ’apple’, 5, 9, 3]) ska returnera svaret\n",
    "[’apple’, 3]."
   ]
  },
  {
   "cell_type": "code",
   "execution_count": 26,
   "id": "56b747bd",
   "metadata": {},
   "outputs": [
    {
     "name": "stdout",
     "output_type": "stream",
     "text": [
      "['apple', 3]\n"
     ]
    }
   ],
   "source": [
    "def common_elements(list_a,list_b):\n",
    "    #The lists are converted to sets.\n",
    "    #Intersection is used to find common element from sets.\n",
    "    return list(set(list_a).intersection(list_b))\n",
    "\n",
    "list_a = [4, 'apple', 10, 'hi', 3]\n",
    "list_b = [23, 'apple', 5, 9, 3]\n",
    "\n",
    "print(common_elements(list_a,list_b))"
   ]
  },
  {
   "cell_type": "markdown",
   "id": "2b436c35",
   "metadata": {},
   "source": [
    "8. Många barn tror att de blev till genom att en stork kom och lämnade dem till deras\n",
    "föräldrar. För att undersöka det kan vi kolla på data och det finns en graf enligt figuren\n",
    "nedan. Det verkar alltså finnas ett samband mellan antalet storkar och barnafödsel!?\n",
    "Stämmer påståendet? Använd begreppet ”kausalitet” i ditt svar."
   ]
  },
  {
   "cell_type": "markdown",
   "id": "a978d117",
   "metadata": {},
   "source": [
    "Svar: Det verkar inte stämma. Diagrammet visar en korrelation mellan antalet storkpar och antal födda barn, men det finns ingen kausalitet. Det finns ingen tydlig orsak-verkan som visar att antalet storkar bidrar till fler födslar. Därför stämmer inte påståendet."
   ]
  },
  {
   "cell_type": "markdown",
   "id": "8d1fe244",
   "metadata": {},
   "source": [
    "9. Kim påstår att ”medelvärdet” är ett bättre mått än ”medianvärdet”. Håller du med Kalle? "
   ]
  },
  {
   "cell_type": "markdown",
   "id": "070bd481",
   "metadata": {},
   "source": [
    "Svar: Jag håller inte helt med Kalle. När man räknar medelvärdet ingår också extrema och avvikande värden, vilket kan påverka resultatet. Då kan det vara bättre att använda medianen.\n",
    "Medelvärdet passar bäst när fördelningen är mer symmetrisk och inte innehåller avvikande värden."
   ]
  },
  {
   "cell_type": "markdown",
   "id": "fee244d4",
   "metadata": {},
   "source": [
    "10. Vad används cirkeldiagram för? Ge ett exempel på vad ett företag som Spotify (eller\n",
    "något annat företag som du själv väljer) hade kunnat använda cirkeldiagram för?"
   ]
  },
  {
   "cell_type": "markdown",
   "id": "725e5bc9",
   "metadata": {},
   "source": [
    "Svar: Ett cirkeldiagram används för att visa hur en helhet delas upp i delar eller andelar. Andelarna kan anges i procent, där hela cirkeln motsvarar 100%, men kan också utrryckas i andra enheter.\n",
    "Spotify kan använda ett cirkeldiagram för att visa hur en användares totala lysningstid fördelas mellan olika genrer eller artister."
   ]
  },
  {
   "cell_type": "markdown",
   "id": "6a84a663",
   "metadata": {},
   "source": [
    "11. Vad används linjediagram för? Ge ett exempel på vad ett företag som Spotify (eller något\n",
    "annat företag som du själv väljer) hade kunnat använda linjediagram för."
   ]
  },
  {
   "cell_type": "markdown",
   "id": "80f91cc9",
   "metadata": {},
   "source": [
    "Svar: Ett linjediagram används för visa hur något förändras eller utvecklas, oftast över tid.\n",
    "Spotify kan skapa ett linjediagram där x-axeln visar tiden i timmar och y-axeln visar antal användare. Med detta diagram kan man se när under dygnet Spotify används som mest"
   ]
  },
  {
   "cell_type": "markdown",
   "id": "6551d440",
   "metadata": {},
   "source": [
    "12. Vad används lådagram för? "
   ]
  },
  {
   "cell_type": "markdown",
   "id": "a2a6bbe9",
   "metadata": {},
   "source": [
    "Ett låddiagram används för att visa hur data är fördelad. Den visar medianen och spridningen av data. Den hjälper oss även att identifiera extrema värden."
   ]
  }
 ],
 "metadata": {
  "kernelspec": {
   "display_name": ".venv",
   "language": "python",
   "name": "python3"
  },
  "language_info": {
   "codemirror_mode": {
    "name": "ipython",
    "version": 3
   },
   "file_extension": ".py",
   "mimetype": "text/x-python",
   "name": "python",
   "nbconvert_exporter": "python",
   "pygments_lexer": "ipython3",
   "version": "3.13.3"
  }
 },
 "nbformat": 4,
 "nbformat_minor": 5
}
